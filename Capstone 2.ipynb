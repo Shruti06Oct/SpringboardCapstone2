{
 "cells": [
  {
   "cell_type": "code",
   "execution_count": 1,
   "metadata": {},
   "outputs": [],
   "source": [
    "import pandas as pd\n",
    "import json\n",
    "import numpy as np\n",
    "from ast import literal_eval\n"
   ]
  },
  {
   "cell_type": "code",
   "execution_count": 2,
   "metadata": {},
   "outputs": [],
   "source": [
    "from pathlib import Path\n",
    "\n",
    "import requests\n",
    "import numpy as np\n",
    "import pandas as pd\n",
    "\n",
    "import pandas_profiling\n",
    "from pandas_profiling.utils.cache import cache_file"
   ]
  },
  {
   "cell_type": "code",
   "execution_count": 3,
   "metadata": {},
   "outputs": [],
   "source": [
    "#Import data from csv files \n",
    "\n",
    "Credits = pd.read_csv('credits.csv', nrows = 100)\n",
    "Keywords = pd.read_csv('keywords.csv', nrows = 100)\n",
    "Links = pd.read_csv('links_small.csv', nrows = 100)\n",
    "Metadata = pd.read_csv('movies_metadata.csv', nrows = 100)\n",
    "Ratings = pd.read_csv('ratings_small.csv', nrows = 100)"
   ]
  },
  {
   "cell_type": "code",
   "execution_count": 4,
   "metadata": {},
   "outputs": [],
   "source": [
    "# Merge the Movies metadata and prepare for further formatting\n",
    "\n",
    "Metadata = Metadata.merge(Credits, on='id')\n",
    "Movies_dataset = Metadata.merge(Keywords, on='id')\n",
    "\n",
    "Movies_dataset.shape\n",
    "\n",
    "Movies_dataset['cast'] = Movies_dataset['cast'].apply(literal_eval)\n",
    "Movies_dataset['crew'] = Movies_dataset['crew'].apply(literal_eval)\n",
    "Movies_dataset['keywords'] = Movies_dataset['keywords'].apply(literal_eval)\n",
    "Movies_dataset['genres'] = Movies_dataset['genres'].apply(literal_eval)\n",
    "\n",
    "Movies_dataset['year'] = pd.DatetimeIndex(Movies_dataset['release_date']).year"
   ]
  },
  {
   "cell_type": "code",
   "execution_count": 5,
   "metadata": {},
   "outputs": [],
   "source": [
    "# Isolate the Director and Novel info\n",
    "\n",
    "def get_director(x):\n",
    "    for i in x:\n",
    "        if i['job'] == 'Director':\n",
    "            return i['name']\n",
    "    return np.nan\n",
    "\n",
    "Movies_dataset['director'] = Movies_dataset['crew'].apply(get_director)\n",
    "\n",
    "def get_novel(x):\n",
    "    for i in x:\n",
    "        if i['job'] == 'Novel':\n",
    "            return i['name']\n",
    "    return np.nan\n",
    "\n",
    "Movies_dataset['novel'] = Movies_dataset['crew'].apply(get_novel)\n"
   ]
  },
  {
   "cell_type": "code",
   "execution_count": 6,
   "metadata": {},
   "outputs": [
    {
     "name": "stdout",
     "output_type": "stream",
     "text": [
      "       id  order  gender             name\n",
      "0     862      0       2        Tom Hanks\n",
      "0     862      1       2        Tim Allen\n",
      "0     862      2       2      Don Rickles\n",
      "0     862      3       2       Jim Varney\n",
      "0     862      4       2    Wallace Shawn\n",
      "..    ...    ...     ...              ...\n",
      "0   13685      7       2         Ned Dowd\n",
      "0   13685      8       0      Shea Fowler\n",
      "0   13685      9       0  Brian Tenenbaum\n",
      "0   13685     10       0     Jenni Tooley\n",
      "0   13685     11       0      Temple Nash\n",
      "\n",
      "[1680 rows x 4 columns]\n"
     ]
    }
   ],
   "source": [
    "# Split the cast and store in separate dataframe\n",
    "\n",
    "cast_dataset = pd.DataFrame()\n",
    "cast_cols = ['id','order', 'gender','name']\n",
    "\n",
    "def split_cast(x, cols):\n",
    "    cast = pd.DataFrame()\n",
    "\n",
    "    for i, row in x.iterrows():\n",
    "        for j in row['cast']:\n",
    "            df2 = pd.DataFrame([[row['id'],j['order'],j['gender'], j['name']]], columns = cols)\n",
    "            cast = cast.append(df2)\n",
    "    return cast\n",
    "\n",
    "cast_dataset = split_cast(Movies_dataset[['id', 'cast']], cast_cols)\n",
    "print(cast_dataset)"
   ]
  },
  {
   "cell_type": "code",
   "execution_count": 7,
   "metadata": {},
   "outputs": [
    {
     "name": "stdout",
     "output_type": "stream",
     "text": [
      "       id               name\n",
      "0     862           jealousy\n",
      "0     862                toy\n",
      "0     862                boy\n",
      "0     862         friendship\n",
      "0     862            friends\n",
      "..    ...                ...\n",
      "0   13685               maid\n",
      "0   13685              theft\n",
      "0   13685  nervous breakdown\n",
      "0   13685           escapade\n",
      "0   13685       laundry room\n",
      "\n",
      "[749 rows x 2 columns]\n"
     ]
    }
   ],
   "source": [
    "# Split the Keywords and store in separate dataframe\n",
    "keywords_dataset = pd.DataFrame()\n",
    "keywords_cols = ['id','name']\n",
    "\n",
    "def split_keywords(x, cols):\n",
    "    keywords = pd.DataFrame()\n",
    "\n",
    "    for i, row in x.iterrows():\n",
    "        for j in row['keywords']:\n",
    "            df2 = pd.DataFrame([[row['id'], j['name']]], columns = cols)\n",
    "            keywords = keywords.append(df2)\n",
    "    return keywords\n",
    "\n",
    "keywords_dataset = split_keywords(Movies_dataset[['id', 'keywords']], keywords_cols)\n",
    "print(keywords_dataset)"
   ]
  },
  {
   "cell_type": "code",
   "execution_count": 9,
   "metadata": {},
   "outputs": [],
   "source": [
    "# split the genres in individual flags in the dataset\n",
    "\n",
    "genre_dataset = pd.DataFrame()\n",
    "genre_cols = ['id', 'IsAnimation', 'IsComedy', 'IsFamily', 'IsThriller', 'IsRomance', 'IsDrama', 'IsAdventure']\n",
    "\n",
    "def classify_genre(x, cols):\n",
    "    genre = pd.DataFrame()\n",
    "    for i, row in x.iterrows():\n",
    "        \n",
    "        df2 = pd.DataFrame([[row['id'],False, False, False, False, False, False, False]], columns = cols)\n",
    "        \n",
    "        for j in row['genres']:\n",
    "            '''animation = False\n",
    "            comedy = False\n",
    "            family = False\n",
    "            thriller = False\n",
    "            romance = False\n",
    "            drama = False'''\n",
    "            \n",
    "            if j['name'] == 'Animation':\n",
    "                df2['IsAnimation'] = True\n",
    "            elif j['name'] == 'Comedy':\n",
    "                df2['IsComedy'] = True\n",
    "            elif j['name'] == 'Family':\n",
    "                df2['IsFamily'] = True \n",
    "            elif j['name'] == 'Thriller':\n",
    "                df2['IsThriller'] = True            \n",
    "            elif j['name'] == 'Romance':\n",
    "                df2['IsRomance'] = True\n",
    "            elif j['name'] == 'Drama':\n",
    "                df2['IsDrama'] = True\n",
    "            elif j['name'] == 'Adventure':\n",
    "                df2['IsAdventure'] = True\n",
    "        genre = genre.append(df2)\n",
    "    return genre\n",
    "\n",
    "genre_dataset = classify_genre(Movies_dataset[['id', 'genres']], genre_cols)\n",
    "#print(genre_dataset)\n",
    "\n",
    "\n",
    "# Merge the genre dataset with the movie dataset, excluding the combined version of 'genres' column\n",
    "Movies_dataset = Movies_dataset[Movies_dataset.columns.difference(['genres'])].merge(genre_dataset, on='id')"
   ]
  },
  {
   "cell_type": "code",
   "execution_count": 12,
   "metadata": {},
   "outputs": [
    {
     "name": "stdout",
     "output_type": "stream",
     "text": [
      "<class 'pandas.core.frame.DataFrame'>\n",
      "Int64Index: 100 entries, 0 to 99\n",
      "Data columns (total 36 columns):\n",
      " #   Column                 Non-Null Count  Dtype  \n",
      "---  ------                 --------------  -----  \n",
      " 0   adult                  100 non-null    bool   \n",
      " 1   belongs_to_collection  14 non-null     object \n",
      " 2   budget                 100 non-null    int64  \n",
      " 3   cast                   100 non-null    object \n",
      " 4   crew                   100 non-null    object \n",
      " 5   director               100 non-null    object \n",
      " 6   homepage               8 non-null      object \n",
      " 7   id                     100 non-null    int64  \n",
      " 8   imdb_id                100 non-null    object \n",
      " 9   keywords               100 non-null    object \n",
      " 10  novel                  22 non-null     object \n",
      " 11  original_language      100 non-null    object \n",
      " 12  original_title         100 non-null    object \n",
      " 13  overview               99 non-null     object \n",
      " 14  popularity             100 non-null    float64\n",
      " 15  poster_path            100 non-null    object \n",
      " 16  production_companies   100 non-null    object \n",
      " 17  production_countries   100 non-null    object \n",
      " 18  release_date           100 non-null    object \n",
      " 19  revenue                100 non-null    int64  \n",
      " 20  runtime                100 non-null    float64\n",
      " 21  spoken_languages       100 non-null    object \n",
      " 22  status                 100 non-null    object \n",
      " 23  tagline                77 non-null     object \n",
      " 24  title                  100 non-null    object \n",
      " 25  video                  100 non-null    bool   \n",
      " 26  vote_average           100 non-null    float64\n",
      " 27  vote_count             100 non-null    int64  \n",
      " 28  year                   100 non-null    int64  \n",
      " 29  IsAnimation            100 non-null    bool   \n",
      " 30  IsComedy               100 non-null    bool   \n",
      " 31  IsFamily               100 non-null    bool   \n",
      " 32  IsThriller             100 non-null    bool   \n",
      " 33  IsRomance              100 non-null    bool   \n",
      " 34  IsDrama                100 non-null    bool   \n",
      " 35  IsAdventure            100 non-null    bool   \n",
      "dtypes: bool(9), float64(3), int64(5), object(19)\n",
      "memory usage: 22.8+ KB\n"
     ]
    },
    {
     "data": {
      "text/html": [
       "<div>\n",
       "<style scoped>\n",
       "    .dataframe tbody tr th:only-of-type {\n",
       "        vertical-align: middle;\n",
       "    }\n",
       "\n",
       "    .dataframe tbody tr th {\n",
       "        vertical-align: top;\n",
       "    }\n",
       "\n",
       "    .dataframe thead th {\n",
       "        text-align: right;\n",
       "    }\n",
       "</style>\n",
       "<table border=\"1\" class=\"dataframe\">\n",
       "  <thead>\n",
       "    <tr style=\"text-align: right;\">\n",
       "      <th></th>\n",
       "      <th>adult</th>\n",
       "      <th>belongs_to_collection</th>\n",
       "      <th>budget</th>\n",
       "      <th>cast</th>\n",
       "      <th>crew</th>\n",
       "      <th>director</th>\n",
       "      <th>homepage</th>\n",
       "      <th>id</th>\n",
       "      <th>imdb_id</th>\n",
       "      <th>keywords</th>\n",
       "      <th>...</th>\n",
       "      <th>vote_average</th>\n",
       "      <th>vote_count</th>\n",
       "      <th>year</th>\n",
       "      <th>IsAnimation</th>\n",
       "      <th>IsComedy</th>\n",
       "      <th>IsFamily</th>\n",
       "      <th>IsThriller</th>\n",
       "      <th>IsRomance</th>\n",
       "      <th>IsDrama</th>\n",
       "      <th>IsAdventure</th>\n",
       "    </tr>\n",
       "  </thead>\n",
       "  <tbody>\n",
       "    <tr>\n",
       "      <th>0</th>\n",
       "      <td>False</td>\n",
       "      <td>{'id': 10194, 'name': 'Toy Story Collection', ...</td>\n",
       "      <td>30000000</td>\n",
       "      <td>[{'cast_id': 14, 'character': 'Woody (voice)',...</td>\n",
       "      <td>[{'credit_id': '52fe4284c3a36847f8024f49', 'de...</td>\n",
       "      <td>John Lasseter</td>\n",
       "      <td>http://toystory.disney.com/toy-story</td>\n",
       "      <td>862</td>\n",
       "      <td>tt0114709</td>\n",
       "      <td>[{'id': 931, 'name': 'jealousy'}, {'id': 4290,...</td>\n",
       "      <td>...</td>\n",
       "      <td>7.7</td>\n",
       "      <td>5415</td>\n",
       "      <td>1995</td>\n",
       "      <td>True</td>\n",
       "      <td>True</td>\n",
       "      <td>True</td>\n",
       "      <td>False</td>\n",
       "      <td>False</td>\n",
       "      <td>False</td>\n",
       "      <td>False</td>\n",
       "    </tr>\n",
       "  </tbody>\n",
       "</table>\n",
       "<p>1 rows × 36 columns</p>\n",
       "</div>"
      ],
      "text/plain": [
       "   adult                              belongs_to_collection    budget  \\\n",
       "0  False  {'id': 10194, 'name': 'Toy Story Collection', ...  30000000   \n",
       "\n",
       "                                                cast  \\\n",
       "0  [{'cast_id': 14, 'character': 'Woody (voice)',...   \n",
       "\n",
       "                                                crew       director  \\\n",
       "0  [{'credit_id': '52fe4284c3a36847f8024f49', 'de...  John Lasseter   \n",
       "\n",
       "                               homepage   id    imdb_id  \\\n",
       "0  http://toystory.disney.com/toy-story  862  tt0114709   \n",
       "\n",
       "                                            keywords  ... vote_average  \\\n",
       "0  [{'id': 931, 'name': 'jealousy'}, {'id': 4290,...  ...          7.7   \n",
       "\n",
       "  vote_count  year IsAnimation  IsComedy IsFamily IsThriller IsRomance  \\\n",
       "0       5415  1995        True      True     True      False     False   \n",
       "\n",
       "  IsDrama  IsAdventure  \n",
       "0   False        False  \n",
       "\n",
       "[1 rows x 36 columns]"
      ]
     },
     "execution_count": 12,
     "metadata": {},
     "output_type": "execute_result"
    }
   ],
   "source": [
    "\n",
    "Movies_dataset.info()\n",
    "Movies_dataset[0:1]"
   ]
  },
  {
   "cell_type": "code",
   "execution_count": 13,
   "metadata": {},
   "outputs": [
    {
     "data": {
      "application/vnd.jupyter.widget-view+json": {
       "model_id": "97c44e1337c948b68c058ef054a1d768",
       "version_major": 2,
       "version_minor": 0
      },
      "text/plain": [
       "HBox(children=(HTML(value='Summarize dataset'), FloatProgress(value=0.0, max=50.0), HTML(value='')))"
      ]
     },
     "metadata": {},
     "output_type": "display_data"
    },
    {
     "name": "stdout",
     "output_type": "stream",
     "text": [
      "\n"
     ]
    },
    {
     "data": {
      "application/vnd.jupyter.widget-view+json": {
       "model_id": "b145d157ec3946038f0c5b4056d0deec",
       "version_major": 2,
       "version_minor": 0
      },
      "text/plain": [
       "HBox(children=(HTML(value='Generate report structure'), FloatProgress(value=0.0, max=1.0), HTML(value='')))"
      ]
     },
     "metadata": {},
     "output_type": "display_data"
    },
    {
     "name": "stdout",
     "output_type": "stream",
     "text": [
      "\n"
     ]
    },
    {
     "data": {
      "application/vnd.jupyter.widget-view+json": {
       "model_id": "",
       "version_major": 2,
       "version_minor": 0
      },
      "text/plain": [
       "HBox(children=(HTML(value='Render widgets'), FloatProgress(value=0.0, max=1.0), HTML(value='')))"
      ]
     },
     "metadata": {},
     "output_type": "display_data"
    },
    {
     "data": {
      "application/vnd.jupyter.widget-view+json": {
       "model_id": "8b1060ade453427cab64075673824fb4",
       "version_major": 2,
       "version_minor": 0
      },
      "text/plain": [
       "VBox(children=(Tab(children=(Tab(children=(GridBox(children=(VBox(children=(GridspecLayout(children=(HTML(valu…"
      ]
     },
     "metadata": {},
     "output_type": "display_data"
    }
   ],
   "source": [
    "profile_report = Movies_dataset.profile_report(explorative=True, html={'style': {'full_width': True}})\n",
    "profile_report.to_widgets()"
   ]
  },
  {
   "cell_type": "code",
   "execution_count": null,
   "metadata": {},
   "outputs": [],
   "source": []
  }
 ],
 "metadata": {
  "kernelspec": {
   "display_name": "Python 3",
   "language": "python",
   "name": "python3"
  },
  "language_info": {
   "codemirror_mode": {
    "name": "ipython",
    "version": 3
   },
   "file_extension": ".py",
   "mimetype": "text/x-python",
   "name": "python",
   "nbconvert_exporter": "python",
   "pygments_lexer": "ipython3",
   "version": "3.8.5"
  }
 },
 "nbformat": 4,
 "nbformat_minor": 4
}
