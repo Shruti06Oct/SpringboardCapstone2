{
 "cells": [
  {
   "cell_type": "code",
   "execution_count": 1,
   "metadata": {},
   "outputs": [],
   "source": [
    "import pandas as pd\n",
    "import json\n",
    "import numpy as np\n",
    "import requests\n",
    "import pandas_profiling\n",
    "from pandas_profiling.utils.cache import cache_file\n",
    "from ast import literal_eval\n",
    "from pathlib import Path\n",
    "from datetime import datetime"
   ]
  },
  {
   "cell_type": "code",
   "execution_count": 2,
   "metadata": {},
   "outputs": [
    {
     "name": "stdout",
     "output_type": "stream",
     "text": [
      "0:00:02.179592\n"
     ]
    }
   ],
   "source": [
    "#Import data from csv files \n",
    "start=datetime.now()\n",
    "\n",
    "Credits = pd.read_csv('credits.csv', dtype={\"cast\": \"string\", \"crew\": str, \"id\": int})\n",
    "Keywords = pd.read_csv('keywords.csv')\n",
    "Links = pd.read_csv('links_small.csv')\n",
    "Metadata = pd.read_csv('movies_metadata.csv',\n",
    "                 lineterminator='\\n', dtype = np.dtype('unicode'))\n",
    "Ratings = pd.read_csv('ratings_small.csv')\n",
    "\n",
    "print (datetime.now()-start)"
   ]
  },
  {
   "cell_type": "code",
   "execution_count": 3,
   "metadata": {},
   "outputs": [
    {
     "name": "stdout",
     "output_type": "stream",
     "text": [
      "<class 'pandas.core.frame.DataFrame'>\n",
      "RangeIndex: 45476 entries, 0 to 45475\n",
      "Data columns (total 3 columns):\n",
      " #   Column  Non-Null Count  Dtype \n",
      "---  ------  --------------  ----- \n",
      " 0   cast    45476 non-null  string\n",
      " 1   crew    45476 non-null  object\n",
      " 2   id      45476 non-null  int32 \n",
      "dtypes: int32(1), object(1), string(1)\n",
      "memory usage: 888.3+ KB\n",
      "None\n",
      "<class 'pandas.core.frame.DataFrame'>\n",
      "RangeIndex: 46419 entries, 0 to 46418\n",
      "Data columns (total 2 columns):\n",
      " #   Column    Non-Null Count  Dtype \n",
      "---  ------    --------------  ----- \n",
      " 0   id        46419 non-null  int64 \n",
      " 1   keywords  46419 non-null  object\n",
      "dtypes: int64(1), object(1)\n",
      "memory usage: 725.4+ KB\n",
      "None\n",
      "<class 'pandas.core.frame.DataFrame'>\n",
      "RangeIndex: 9125 entries, 0 to 9124\n",
      "Data columns (total 3 columns):\n",
      " #   Column   Non-Null Count  Dtype  \n",
      "---  ------   --------------  -----  \n",
      " 0   movieId  9125 non-null   int64  \n",
      " 1   imdbId   9125 non-null   int64  \n",
      " 2   tmdbId   9112 non-null   float64\n",
      "dtypes: float64(1), int64(2)\n",
      "memory usage: 214.0 KB\n",
      "None\n",
      "<class 'pandas.core.frame.DataFrame'>\n",
      "RangeIndex: 45463 entries, 0 to 45462\n",
      "Data columns (total 24 columns):\n",
      " #   Column                 Non-Null Count  Dtype \n",
      "---  ------                 --------------  ----- \n",
      " 0   adult                  45463 non-null  object\n",
      " 1   belongs_to_collection  4491 non-null   object\n",
      " 2   budget                 45463 non-null  object\n",
      " 3   genres                 45463 non-null  object\n",
      " 4   homepage               7779 non-null   object\n",
      " 5   id                     45463 non-null  object\n",
      " 6   imdb_id                45446 non-null  object\n",
      " 7   original_language      45452 non-null  object\n",
      " 8   original_title         45463 non-null  object\n",
      " 9   overview               44509 non-null  object\n",
      " 10  popularity             45463 non-null  object\n",
      " 11  poster_path            45080 non-null  object\n",
      " 12  production_companies   45463 non-null  object\n",
      " 13  production_countries   45463 non-null  object\n",
      " 14  release_date           45379 non-null  object\n",
      " 15  revenue                45463 non-null  object\n",
      " 16  runtime                45206 non-null  object\n",
      " 17  spoken_languages       45463 non-null  object\n",
      " 18  status                 45382 non-null  object\n",
      " 19  tagline                20413 non-null  object\n",
      " 20  title                  45463 non-null  object\n",
      " 21  video                  45463 non-null  object\n",
      " 22  vote_average           45463 non-null  object\n",
      " 23  vote_count             45463 non-null  object\n",
      "dtypes: object(24)\n",
      "memory usage: 8.3+ MB\n",
      "None\n",
      "<class 'pandas.core.frame.DataFrame'>\n",
      "RangeIndex: 100004 entries, 0 to 100003\n",
      "Data columns (total 4 columns):\n",
      " #   Column     Non-Null Count   Dtype  \n",
      "---  ------     --------------   -----  \n",
      " 0   userId     100004 non-null  int64  \n",
      " 1   movieId    100004 non-null  int64  \n",
      " 2   rating     100004 non-null  float64\n",
      " 3   timestamp  100004 non-null  int64  \n",
      "dtypes: float64(1), int64(3)\n",
      "memory usage: 3.1 MB\n",
      "None\n"
     ]
    }
   ],
   "source": [
    "print(Credits.info())\n",
    "print(Keywords.info())\n",
    "print(Links.info())\n",
    "print(Metadata.info())\n",
    "print(Ratings.info())"
   ]
  },
  {
   "cell_type": "code",
   "execution_count": 4,
   "metadata": {},
   "outputs": [
    {
     "name": "stdout",
     "output_type": "stream",
     "text": [
      "Empty DataFrame\n",
      "Columns: [adult, belongs_to_collection, budget, genres, homepage, id, imdb_id, original_language, original_title, overview, popularity, poster_path, production_companies, production_countries, release_date, revenue, runtime, spoken_languages, status, tagline, title, video, vote_average, vote_count]\n",
      "Index: []\n",
      "\n",
      "[0 rows x 24 columns]\n",
      "<class 'pandas.core.frame.DataFrame'>\n",
      "RangeIndex: 45463 entries, 0 to 45462\n",
      "Data columns (total 24 columns):\n",
      " #   Column                 Non-Null Count  Dtype \n",
      "---  ------                 --------------  ----- \n",
      " 0   adult                  45463 non-null  object\n",
      " 1   belongs_to_collection  4491 non-null   object\n",
      " 2   budget                 45463 non-null  object\n",
      " 3   genres                 45463 non-null  object\n",
      " 4   homepage               7779 non-null   object\n",
      " 5   id                     45463 non-null  int32 \n",
      " 6   imdb_id                45446 non-null  object\n",
      " 7   original_language      45452 non-null  object\n",
      " 8   original_title         45463 non-null  object\n",
      " 9   overview               44509 non-null  object\n",
      " 10  popularity             45463 non-null  object\n",
      " 11  poster_path            45080 non-null  object\n",
      " 12  production_companies   45463 non-null  object\n",
      " 13  production_countries   45463 non-null  object\n",
      " 14  release_date           45379 non-null  object\n",
      " 15  revenue                45463 non-null  object\n",
      " 16  runtime                45206 non-null  object\n",
      " 17  spoken_languages       45463 non-null  object\n",
      " 18  status                 45382 non-null  object\n",
      " 19  tagline                20413 non-null  object\n",
      " 20  title                  45463 non-null  object\n",
      " 21  video                  45463 non-null  object\n",
      " 22  vote_average           45463 non-null  object\n",
      " 23  vote_count             45463 non-null  object\n",
      "dtypes: int32(1), object(23)\n",
      "memory usage: 8.2+ MB\n",
      "None\n"
     ]
    }
   ],
   "source": [
    "\n",
    "print(Metadata[~Metadata[\"id\"].astype(int).apply(lambda x: isinstance(x, (int)))])\n",
    "\n",
    "#Metadata[Metadata[\"id\"] == \"2014-01-01\"]\n",
    "\n",
    "\n",
    "Metadata[\"id\"] = Metadata[\"id\"].astype(int)\n",
    "\n",
    "print(Metadata.info())"
   ]
  },
  {
   "cell_type": "code",
   "execution_count": 5,
   "metadata": {},
   "outputs": [
    {
     "name": "stdout",
     "output_type": "stream",
     "text": [
      "0:00:31.913404\n",
      "<class 'pandas.core.frame.DataFrame'>\n",
      "Int64Index: 46628 entries, 0 to 46627\n",
      "Data columns (total 28 columns):\n",
      " #   Column                 Non-Null Count  Dtype  \n",
      "---  ------                 --------------  -----  \n",
      " 0   adult                  46628 non-null  object \n",
      " 1   belongs_to_collection  4574 non-null   object \n",
      " 2   budget                 46628 non-null  object \n",
      " 3   genres                 46628 non-null  object \n",
      " 4   homepage               8009 non-null   object \n",
      " 5   id                     46628 non-null  int32  \n",
      " 6   imdb_id                46611 non-null  object \n",
      " 7   original_language      46617 non-null  object \n",
      " 8   original_title         46628 non-null  object \n",
      " 9   overview               45633 non-null  object \n",
      " 10  popularity             46628 non-null  object \n",
      " 11  poster_path            46233 non-null  object \n",
      " 12  production_companies   46628 non-null  object \n",
      " 13  production_countries   46628 non-null  object \n",
      " 14  release_date           46544 non-null  object \n",
      " 15  revenue                46628 non-null  object \n",
      " 16  runtime                46364 non-null  object \n",
      " 17  spoken_languages       46628 non-null  object \n",
      " 18  status                 46546 non-null  object \n",
      " 19  tagline                20785 non-null  object \n",
      " 20  title                  46628 non-null  object \n",
      " 21  video                  46628 non-null  object \n",
      " 22  vote_average           46628 non-null  object \n",
      " 23  vote_count             46628 non-null  object \n",
      " 24  cast                   46628 non-null  object \n",
      " 25  crew                   46628 non-null  object \n",
      " 26  keywords               46628 non-null  object \n",
      " 27  year                   46544 non-null  float64\n",
      "dtypes: float64(1), int32(1), object(26)\n",
      "memory usage: 10.1+ MB\n",
      "None\n"
     ]
    }
   ],
   "source": [
    "# Merge the Movies metadata and prepare for further formatting\n",
    "start=datetime.now()\n",
    "\n",
    "\n",
    "Metadata = Metadata.merge(Credits, on='id')\n",
    "Movies_dataset = Metadata.merge(Keywords, on='id')\n",
    "\n",
    "Movies_dataset.shape\n",
    "\n",
    "Movies_dataset['cast'] = Movies_dataset['cast'].apply(literal_eval)\n",
    "Movies_dataset['crew'] = Movies_dataset['crew'].apply(literal_eval)\n",
    "Movies_dataset['keywords'] = Movies_dataset['keywords'].apply(literal_eval)\n",
    "Movies_dataset['genres'] = Movies_dataset['genres'].apply(literal_eval)\n",
    "\n",
    "Movies_dataset['year'] = pd.DatetimeIndex(Movies_dataset['release_date']).year\n",
    "\n",
    "print (datetime.now()-start)\n",
    "\n",
    "print(Movies_dataset.info())"
   ]
  },
  {
   "cell_type": "code",
   "execution_count": 6,
   "metadata": {},
   "outputs": [
    {
     "name": "stdout",
     "output_type": "stream",
     "text": [
      "0:00:00.141921\n"
     ]
    }
   ],
   "source": [
    "# Isolate the Director and Novel info\n",
    "start=datetime.now()\n",
    "\n",
    "def get_director(x):\n",
    "    for i in x:\n",
    "        if i['job'] == 'Director':\n",
    "            return i['name']\n",
    "    return np.nan\n",
    "\n",
    "Movies_dataset['director'] = Movies_dataset['crew'].apply(get_director)\n",
    "\n",
    "def get_novel(x):\n",
    "    for i in x:\n",
    "        if i['job'] == 'Novel':\n",
    "            return 'Yes'#i['name']\n",
    "    return 'No'\n",
    "\n",
    "Movies_dataset['novel'] = Movies_dataset['crew'].apply(get_novel)\n",
    "\n",
    "print (datetime.now()-start)"
   ]
  },
  {
   "cell_type": "code",
   "execution_count": 7,
   "metadata": {},
   "outputs": [
    {
     "name": "stdout",
     "output_type": "stream",
     "text": [
      "{'cast_id': 14, 'character': 'Woody (voice)', 'credit_id': '52fe4284c3a36847f8024f95', 'gender': 2, 'id': 31, 'name': 'Tom Hanks', 'order': 0, 'profile_path': '/pQFoyx7rp09CJTAb932F2g8Nlho.jpg'}\n"
     ]
    }
   ],
   "source": [
    "#print(Movies_dataset.info())\n",
    "print(Movies_dataset['cast'][0][0])"
   ]
  },
  {
   "cell_type": "code",
   "execution_count": 8,
   "metadata": {
    "scrolled": true
   },
   "outputs": [
    {
     "name": "stdout",
     "output_type": "stream",
     "text": [
      "0:10:16.037490\n"
     ]
    }
   ],
   "source": [
    "# Split the cast and store in separate dataframe\n",
    "start=datetime.now()\n",
    "\n",
    "cast_dataset = pd.DataFrame()\n",
    "cast_cols = ['movie_id','order', 'gender','name']\n",
    "\n",
    "def split_cast(x, y, cols):\n",
    "    cast = pd.DataFrame()\n",
    "    \n",
    "    for j in y:\n",
    "        df2 = pd.DataFrame([[x,j['order'],j['gender'], j['name']]], columns = cols)\n",
    "        cast = cast.append(df2)\n",
    "    return cast\n",
    "\n",
    "\n",
    "cast_dataset = pd.concat(Movies_dataset.apply(lambda x: split_cast(x['id'], x['cast'], cast_cols), axis=1).tolist())\n",
    "\n",
    "print (datetime.now()-start)"
   ]
  },
  {
   "cell_type": "code",
   "execution_count": 9,
   "metadata": {},
   "outputs": [
    {
     "name": "stdout",
     "output_type": "stream",
     "text": [
      "   movie_id  order  gender           name\n",
      "0       862      0       2      Tom Hanks\n",
      "0       862      1       2      Tim Allen\n",
      "0       862      2       2    Don Rickles\n",
      "0       862      3       2     Jim Varney\n",
      "0       862      4       2  Wallace Shawn\n",
      "<class 'pandas.core.frame.DataFrame'>\n",
      "Int64Index: 574164 entries, 0 to 0\n",
      "Data columns (total 4 columns):\n",
      " #   Column    Non-Null Count   Dtype \n",
      "---  ------    --------------   ----- \n",
      " 0   movie_id  574164 non-null  int64 \n",
      " 1   order     574164 non-null  int64 \n",
      " 2   gender    574164 non-null  int64 \n",
      " 3   name      574164 non-null  object\n",
      "dtypes: int64(3), object(1)\n",
      "memory usage: 21.9+ MB\n",
      "None\n",
      "          order  gender  name\n",
      "movie_id                     \n",
      "2             4       4     4\n",
      "3             7       7     7\n",
      "5            24      24    24\n",
      "6            15      15    15\n",
      "11          106     106   106\n",
      "...         ...     ...   ...\n",
      "464207        9       9     9\n",
      "465044        6       6     6\n",
      "467731       14      14    14\n",
      "468707        6       6     6\n",
      "469172       20      20    20\n",
      "\n",
      "[43018 rows x 3 columns]\n"
     ]
    }
   ],
   "source": [
    "\n",
    "print(cast_dataset.head())\n",
    "print(cast_dataset.info())\n",
    "print(cast_dataset.groupby(by='movie_id').count())"
   ]
  },
  {
   "cell_type": "code",
   "execution_count": 10,
   "metadata": {},
   "outputs": [
    {
     "name": "stdout",
     "output_type": "stream",
     "text": [
      "0:01:15.853712\n"
     ]
    }
   ],
   "source": [
    "# Split the Keywords and store in separate dataframe\n",
    "start=datetime.now()\n",
    "\n",
    "def split_keywords(x,y):\n",
    "    \n",
    "    keywords = pd.json_normalize(y)\n",
    "    keywords['movie_id'] = x\n",
    "\n",
    "    if keywords.empty: return\n",
    "    else: return keywords[['name', 'movie_id']]\n",
    "\n",
    "keywords_dataset = pd.concat(Movies_dataset.apply(lambda x: split_keywords(x['id'],x['keywords']), axis = 1).tolist())\n",
    "\n",
    "print (datetime.now()-start)"
   ]
  },
  {
   "cell_type": "code",
   "execution_count": 11,
   "metadata": {},
   "outputs": [
    {
     "name": "stdout",
     "output_type": "stream",
     "text": [
      "         name  movie_id\n",
      "0    jealousy       862\n",
      "1         toy       862\n",
      "2         boy       862\n",
      "3  friendship       862\n",
      "4     friends       862\n",
      "<class 'pandas.core.frame.DataFrame'>\n",
      "Int64Index: 159441 entries, 0 to 2\n",
      "Data columns (total 2 columns):\n",
      " #   Column    Non-Null Count   Dtype \n",
      "---  ------    --------------   ----- \n",
      " 0   name      159441 non-null  object\n",
      " 1   movie_id  159441 non-null  int64 \n",
      "dtypes: int64(1), object(1)\n",
      "memory usage: 3.6+ MB\n",
      "None\n",
      "          name\n",
      "movie_id      \n",
      "2            7\n",
      "3            4\n",
      "5           10\n",
      "6            5\n",
      "11          16\n",
      "...        ...\n",
      "463800       2\n",
      "463906       1\n",
      "464207       3\n",
      "464819       1\n",
      "468707       3\n",
      "\n",
      "[31092 rows x 1 columns]\n"
     ]
    }
   ],
   "source": [
    "print(keywords_dataset.head())\n",
    "print(keywords_dataset.info())\n",
    "print(keywords_dataset.groupby(by='movie_id').count())"
   ]
  },
  {
   "cell_type": "code",
   "execution_count": 12,
   "metadata": {},
   "outputs": [
    {
     "name": "stdout",
     "output_type": "stream",
     "text": [
      "0:01:19.999700\n"
     ]
    }
   ],
   "source": [
    "# split the genres in individual flags in the dataset\n",
    "start=datetime.now()\n",
    "\n",
    "genre_dataset = pd.DataFrame()\n",
    "genre_cols = ['id', 'IsAnimation', 'IsComedy', 'IsFamily', 'IsThriller', 'IsRomance', 'IsDrama', 'IsAdventure']\n",
    "\n",
    "def classify_genre(x, cols):\n",
    "    genre = pd.DataFrame()\n",
    "    for i, row in x.iterrows():\n",
    "        \n",
    "        df2 = pd.DataFrame([[row['id'],False, False, False, False, False, False, False]], columns = cols)\n",
    "        \n",
    "        for j in row['genres']:\n",
    "            '''animation = False\n",
    "            comedy = False\n",
    "            family = False\n",
    "            thriller = False\n",
    "            romance = False\n",
    "            drama = False'''\n",
    "            \n",
    "            if j['name'] == 'Animation':\n",
    "                df2['IsAnimation'] = True\n",
    "            elif j['name'] == 'Comedy':\n",
    "                df2['IsComedy'] = True\n",
    "            elif j['name'] == 'Family':\n",
    "                df2['IsFamily'] = True \n",
    "            elif j['name'] == 'Thriller':\n",
    "                df2['IsThriller'] = True            \n",
    "            elif j['name'] == 'Romance':\n",
    "                df2['IsRomance'] = True\n",
    "            elif j['name'] == 'Drama':\n",
    "                df2['IsDrama'] = True\n",
    "            elif j['name'] == 'Adventure':\n",
    "                df2['IsAdventure'] = True\n",
    "        genre = genre.append(df2)\n",
    "    return genre\n",
    "\n",
    "genre_dataset = classify_genre(Movies_dataset[['id', 'genres']], genre_cols)\n",
    "#print(genre_dataset)\n",
    "\n",
    "\n",
    "# Merge the genre dataset with the movie dataset, excluding the combined version of 'genres' column\n",
    "Movies_dataset = Movies_dataset[Movies_dataset.columns.difference(['genres'])].merge(genre_dataset, on='id')\n",
    "\n",
    "print (datetime.now()-start)"
   ]
  },
  {
   "cell_type": "code",
   "execution_count": 13,
   "metadata": {},
   "outputs": [
    {
     "name": "stdout",
     "output_type": "stream",
     "text": [
      "<class 'pandas.core.frame.DataFrame'>\n",
      "Int64Index: 50914 entries, 0 to 50913\n",
      "Data columns (total 36 columns):\n",
      " #   Column                 Non-Null Count  Dtype  \n",
      "---  ------                 --------------  -----  \n",
      " 0   adult                  50914 non-null  object \n",
      " 1   belongs_to_collection  4940 non-null   object \n",
      " 2   budget                 50914 non-null  object \n",
      " 3   cast                   50914 non-null  object \n",
      " 4   crew                   50914 non-null  object \n",
      " 5   director               49937 non-null  object \n",
      " 6   homepage               8689 non-null   object \n",
      " 7   id                     50914 non-null  int32  \n",
      " 8   imdb_id                50897 non-null  object \n",
      " 9   keywords               50914 non-null  object \n",
      " 10  novel                  50914 non-null  object \n",
      " 11  original_language      50903 non-null  object \n",
      " 12  original_title         50914 non-null  object \n",
      " 13  overview               49837 non-null  object \n",
      " 14  popularity             50914 non-null  object \n",
      " 15  poster_path            50495 non-null  object \n",
      " 16  production_companies   50914 non-null  object \n",
      " 17  production_countries   50914 non-null  object \n",
      " 18  release_date           50830 non-null  object \n",
      " 19  revenue                50914 non-null  object \n",
      " 20  runtime                50636 non-null  object \n",
      " 21  spoken_languages       50914 non-null  object \n",
      " 22  status                 50830 non-null  object \n",
      " 23  tagline                22579 non-null  object \n",
      " 24  title                  50914 non-null  object \n",
      " 25  video                  50914 non-null  object \n",
      " 26  vote_average           50914 non-null  object \n",
      " 27  vote_count             50914 non-null  object \n",
      " 28  year                   50830 non-null  float64\n",
      " 29  IsAnimation            50914 non-null  bool   \n",
      " 30  IsComedy               50914 non-null  bool   \n",
      " 31  IsFamily               50914 non-null  bool   \n",
      " 32  IsThriller             50914 non-null  bool   \n",
      " 33  IsRomance              50914 non-null  bool   \n",
      " 34  IsDrama                50914 non-null  bool   \n",
      " 35  IsAdventure            50914 non-null  bool   \n",
      "dtypes: bool(7), float64(1), int32(1), object(27)\n",
      "memory usage: 11.8+ MB\n"
     ]
    },
    {
     "data": {
      "text/html": [
       "<div>\n",
       "<style scoped>\n",
       "    .dataframe tbody tr th:only-of-type {\n",
       "        vertical-align: middle;\n",
       "    }\n",
       "\n",
       "    .dataframe tbody tr th {\n",
       "        vertical-align: top;\n",
       "    }\n",
       "\n",
       "    .dataframe thead th {\n",
       "        text-align: right;\n",
       "    }\n",
       "</style>\n",
       "<table border=\"1\" class=\"dataframe\">\n",
       "  <thead>\n",
       "    <tr style=\"text-align: right;\">\n",
       "      <th></th>\n",
       "      <th>adult</th>\n",
       "      <th>belongs_to_collection</th>\n",
       "      <th>budget</th>\n",
       "      <th>cast</th>\n",
       "      <th>crew</th>\n",
       "      <th>director</th>\n",
       "      <th>homepage</th>\n",
       "      <th>id</th>\n",
       "      <th>imdb_id</th>\n",
       "      <th>keywords</th>\n",
       "      <th>...</th>\n",
       "      <th>vote_average</th>\n",
       "      <th>vote_count</th>\n",
       "      <th>year</th>\n",
       "      <th>IsAnimation</th>\n",
       "      <th>IsComedy</th>\n",
       "      <th>IsFamily</th>\n",
       "      <th>IsThriller</th>\n",
       "      <th>IsRomance</th>\n",
       "      <th>IsDrama</th>\n",
       "      <th>IsAdventure</th>\n",
       "    </tr>\n",
       "  </thead>\n",
       "  <tbody>\n",
       "    <tr>\n",
       "      <th>0</th>\n",
       "      <td>False</td>\n",
       "      <td>{'id': 10194, 'name': 'Toy Story Collection', ...</td>\n",
       "      <td>30000000</td>\n",
       "      <td>[{'cast_id': 14, 'character': 'Woody (voice)',...</td>\n",
       "      <td>[{'credit_id': '52fe4284c3a36847f8024f49', 'de...</td>\n",
       "      <td>John Lasseter</td>\n",
       "      <td>http://toystory.disney.com/toy-story</td>\n",
       "      <td>862</td>\n",
       "      <td>tt0114709</td>\n",
       "      <td>[{'id': 931, 'name': 'jealousy'}, {'id': 4290,...</td>\n",
       "      <td>...</td>\n",
       "      <td>7.7</td>\n",
       "      <td>5415</td>\n",
       "      <td>1995.0</td>\n",
       "      <td>True</td>\n",
       "      <td>True</td>\n",
       "      <td>True</td>\n",
       "      <td>False</td>\n",
       "      <td>False</td>\n",
       "      <td>False</td>\n",
       "      <td>False</td>\n",
       "    </tr>\n",
       "  </tbody>\n",
       "</table>\n",
       "<p>1 rows × 36 columns</p>\n",
       "</div>"
      ],
      "text/plain": [
       "   adult                              belongs_to_collection    budget  \\\n",
       "0  False  {'id': 10194, 'name': 'Toy Story Collection', ...  30000000   \n",
       "\n",
       "                                                cast  \\\n",
       "0  [{'cast_id': 14, 'character': 'Woody (voice)',...   \n",
       "\n",
       "                                                crew       director  \\\n",
       "0  [{'credit_id': '52fe4284c3a36847f8024f49', 'de...  John Lasseter   \n",
       "\n",
       "                               homepage   id    imdb_id  \\\n",
       "0  http://toystory.disney.com/toy-story  862  tt0114709   \n",
       "\n",
       "                                            keywords  ... vote_average  \\\n",
       "0  [{'id': 931, 'name': 'jealousy'}, {'id': 4290,...  ...          7.7   \n",
       "\n",
       "  vote_count    year IsAnimation IsComedy IsFamily IsThriller IsRomance  \\\n",
       "0       5415  1995.0        True     True     True      False     False   \n",
       "\n",
       "  IsDrama IsAdventure  \n",
       "0   False       False  \n",
       "\n",
       "[1 rows x 36 columns]"
      ]
     },
     "execution_count": 13,
     "metadata": {},
     "output_type": "execute_result"
    }
   ],
   "source": [
    "\n",
    "Movies_dataset.info()\n",
    "Movies_dataset[0:1]"
   ]
  },
  {
   "cell_type": "code",
   "execution_count": 14,
   "metadata": {},
   "outputs": [],
   "source": [
    "#profile_report = Movies_dataset.profile_report(explorative=True, html={'style': {'full_width': True}})\n",
    "#profile_report.to_widgets()"
   ]
  },
  {
   "cell_type": "code",
   "execution_count": null,
   "metadata": {},
   "outputs": [],
   "source": []
  }
 ],
 "metadata": {
  "kernelspec": {
   "display_name": "Python 3",
   "language": "python",
   "name": "python3"
  },
  "language_info": {
   "codemirror_mode": {
    "name": "ipython",
    "version": 3
   },
   "file_extension": ".py",
   "mimetype": "text/x-python",
   "name": "python",
   "nbconvert_exporter": "python",
   "pygments_lexer": "ipython3",
   "version": "3.8.5"
  }
 },
 "nbformat": 4,
 "nbformat_minor": 4
}
